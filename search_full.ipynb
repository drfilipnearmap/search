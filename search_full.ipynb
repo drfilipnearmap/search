{
 "cells": [
  {
   "cell_type": "markdown",
   "metadata": {},
   "source": [
    "# Similarity Search"
   ]
  },
  {
   "cell_type": "markdown",
   "metadata": {},
   "source": [
    "#### Required libraries\n",
    "\n",
    "- tensorflow-probability 0.7.0 (for use with tf1.4)\n",
    "- hnswlib 0.3.2.0\n",
    "- nmslib 1.8.1 if using search_location_brute() or search_image_brute()\n",
    "\n",
    "##### Note: There are a lot of images shown. Use plt.rcParams[\"figure.figsize\"] = (x,y) to adjust the size of figures in the notebook, where x and y are ints"
   ]
  },
  {
   "cell_type": "markdown",
   "metadata": {},
   "source": [
    "### Importing modules"
   ]
  },
  {
   "cell_type": "code",
   "execution_count": null,
   "metadata": {},
   "outputs": [],
   "source": [
    "# This future stuff is necessary for TF\n",
    "from __future__ import absolute_import\n",
    "from __future__ import division\n",
    "from __future__ import print_function\n",
    "\n",
    "import glob, sys, os\n",
    "import matplotlib.pyplot as plt\n",
    "for file in glob.glob('modules/*'):\n",
    "    sys.path.insert(0, file)\n",
    "import searchtiles, searchmodel\n",
    "os.environ[\"API_KEY\"] = 'Y2RiZGU0YTAtYjk5Ni00YTgyLWI4MzgtYmM0OGUyNzMyMzAx'"
   ]
  },
  {
   "cell_type": "markdown",
   "metadata": {},
   "source": [
    "## Model training"
   ]
  },
  {
   "cell_type": "markdown",
   "metadata": {},
   "source": [
    "### GPU setup"
   ]
  },
  {
   "cell_type": "code",
   "execution_count": null,
   "metadata": {},
   "outputs": [],
   "source": [
    "searchmodel.gpu_setup(gpu_number = 6,\n",
    "                      gpu_fraction = 0.45)"
   ]
  },
  {
   "cell_type": "markdown",
   "metadata": {},
   "source": [
    "### Preparing training dataset"
   ]
  },
  {
   "cell_type": "code",
   "execution_count": null,
   "metadata": {},
   "outputs": [],
   "source": [
    "searchtiles.batch_inference(save_path = 'apollo_predictions_small/',\n",
    "                            base_path = '/mnt/data/datasets/apollo_20190509/',\n",
    "                            num_imgs = 100,\n",
    "                            batches = 5,\n",
    "                            zoom_level = 21)"
   ]
  },
  {
   "cell_type": "code",
   "execution_count": null,
   "metadata": {},
   "outputs": [],
   "source": [
    "searchtiles.copy_n_files(base_path = '/mnt/data/data_filip/apollo_predictions_small/',\n",
    "                         n = 100,\n",
    "                         zoom_level = 21,\n",
    "                         category = 'all')"
   ]
  },
  {
   "cell_type": "code",
   "execution_count": null,
   "metadata": {},
   "outputs": [],
   "source": [
    "searchtiles.rotate_model_tiles(base_path = '/mnt/data/data_filip/apollo_predictions_small/all_100_z21/')"
   ]
  },
  {
   "cell_type": "markdown",
   "metadata": {},
   "source": [
    "### Training"
   ]
  },
  {
   "cell_type": "code",
   "execution_count": null,
   "metadata": {},
   "outputs": [],
   "source": [
    "encoder, decoder, vae = searchmodel.build_vae_resnet(encoded_size = 65)"
   ]
  },
  {
   "cell_type": "markdown",
   "metadata": {},
   "source": [
    "#### Either train the model or load weights from disk"
   ]
  },
  {
   "cell_type": "code",
   "execution_count": null,
   "metadata": {},
   "outputs": [],
   "source": [
    "searchmodel.train_model(model = vae,\n",
    "                        encoder = encoder,\n",
    "                        decoder = decoder,\n",
    "                        dataset_directory = '/mnt/data/data_filip/apollo_predictions_small/all_100_z21/',\n",
    "                        epochs = 50,\n",
    "                        run_name = '100 z21 resnet',\n",
    "                        tensorboard_directory = \"/mnt/data/data_filip/tensorboard_logs/\")"
   ]
  },
  {
   "cell_type": "code",
   "execution_count": null,
   "metadata": {},
   "outputs": [],
   "source": [
    "# If you get 'No locks available' errors, either move the .h5 file to your \n",
    "# /home/ directory or run 'export HDF5_USE_FILE_LOCKING=FALSE' and restart your notebook\n",
    "vae.load_weights('/mnt/data/data_filip/models/50k_z21_e65.h5')"
   ]
  },
  {
   "cell_type": "markdown",
   "metadata": {},
   "source": [
    "## Creating tiles, encodings and indexes"
   ]
  },
  {
   "cell_type": "markdown",
   "metadata": {},
   "source": [
    "### Fetching tiles"
   ]
  },
  {
   "cell_type": "code",
   "execution_count": null,
   "metadata": {},
   "outputs": [],
   "source": [
    "searchtiles.fetch_tiles(lon = 151.1518715,\n",
    "                        lat = -33.8223945,\n",
    "                        zoom_level = 20,\n",
    "                        datestr = \"2018-12-27\",\n",
    "                        box_size = 10,\n",
    "                        categories = [1,2,3,8,33],\n",
    "                        file_path = '/mnt/data/data_filip/tiles_sydney/sydney_small_20/',\n",
    "                        verbose = True)"
   ]
  },
  {
   "cell_type": "markdown",
   "metadata": {},
   "source": [
    "### Cropping and aligning dataset and creating encoded predictions"
   ]
  },
  {
   "cell_type": "code",
   "execution_count": null,
   "metadata": {},
   "outputs": [],
   "source": [
    "searchtiles.crop_rotate_encode(base_path = '/mnt/data/data_filip/tiles_sydney/sydney_small_20/',\n",
    "                               categories = [1,2,3,8,33],\n",
    "                               encoder = encoder,\n",
    "                               save_path = '/mnt/data/data_filip/encoded_predictions/sydney_small_21_e65/',\n",
    "                               coordinates_path = '/mnt/data/data_filip/encoded_predictions/sydney_small_21_e65_coordinates.npy',\n",
    "                               split = 5)"
   ]
  },
  {
   "cell_type": "markdown",
   "metadata": {},
   "source": [
    "### Creating search index"
   ]
  },
  {
   "cell_type": "code",
   "execution_count": null,
   "metadata": {},
   "outputs": [],
   "source": [
    "searchtiles.create_index(encoding_path = '/mnt/data/data_filip/encoded_predictions/sydney_small_21/',\n",
    "                         save_path = '/mnt/data/data_filip/indexes/sydney_small_21/',\n",
    "                         ef_construction = 10000, \n",
    "                         M = 100, \n",
    "                         num_threads = 8,\n",
    "                         index_space = 'ip')"
   ]
  },
  {
   "cell_type": "markdown",
   "metadata": {},
   "source": [
    "## Indexed Search"
   ]
  },
  {
   "cell_type": "markdown",
   "metadata": {},
   "source": [
    "### Search using a given set of lat/long coordinates\n",
    "##### The example provided is lon = 151.110166, lat = -33.772612 for category 1 (pools) at z19\n",
    "##### This finds long, thin pools that are big enough to span a z19 tile (like 50m public pools)"
   ]
  },
  {
   "cell_type": "code",
   "execution_count": null,
   "metadata": {},
   "outputs": [],
   "source": [
    "result_coordinates, result_images, result_ids = searchtiles.search_location(encoder = encoder,\n",
    "                                                index_directory = '/mnt/data/data_filip/indexes/sydney_bigger_19_e65/',\n",
    "                                                coordinates_directory = '/mnt/data/data_filip/encoded_predictions/sydney_bigger_19_e65_coordinates.npy',\n",
    "                                                lon = 151.110166,\n",
    "                                                lat = -33.772612, \n",
    "                                                datestr = '2018-12-27',\n",
    "                                                dataset_datestr = '2018-12-27',\n",
    "                                                zoom_level = 19,\n",
    "                                                categories = [1,2,3,8,33],\n",
    "                                                category_weights = [1,0,0,0,0],\n",
    "                                                index_space = 'ip',\n",
    "                                                index_dim = 65,\n",
    "                                                num_nearest = 25,\n",
    "                                                show_images = True)"
   ]
  },
  {
   "cell_type": "markdown",
   "metadata": {},
   "source": [
    "### Search using a given image\n",
    "##### The image should be 128x128xC, where C is the amount of categories you wish to use\n",
    "\n",
    "##### The example provided is a search for three-pronged flat roofs at zoom 19 using a quickly drawn query image"
   ]
  },
  {
   "cell_type": "code",
   "execution_count": null,
   "metadata": {},
   "outputs": [],
   "source": [
    "import matplotlib.pyplot as plt\n",
    "import numpy as np\n",
    "im = plt.imread('/mnt/data/data_filip/queryimages/6-bad.png')[:,:,:1]\n",
    "im_model = vae(np.array([im])).mean()[0,:,:,:1]\n",
    "print('Original image (left) and that image passed through the VAE (right)')\n",
    "print('The right-hand image is used for the search query')\n",
    "plt.subplot(1,2,1)\n",
    "plt.imshow(im[:,:,0])\n",
    "plt.subplot(1,2,2)\n",
    "plt.imshow(im_model[:,:,0])\n",
    "plt.show()"
   ]
  },
  {
   "cell_type": "code",
   "execution_count": null,
   "metadata": {},
   "outputs": [],
   "source": [
    "result_coordinates, result_images, result_ids = searchtiles.search_image(preds = im_model,\n",
    "                                                encoder = encoder,\n",
    "                                                index_directory = '/mnt/data/data_filip/indexes/sydney_bigger_19_e65/',\n",
    "                                                coordinates_directory = '/mnt/data/data_filip/encoded_predictions/sydney_bigger_19_e65_coordinates.npy',\n",
    "                                                dataset_datestr = '2018-12-27',\n",
    "                                                zoom_level = 19,\n",
    "                                                categories = [33],\n",
    "                                                category_weights = [1],\n",
    "                                                index_space = 'ip',\n",
    "                                                index_dim = 65,\n",
    "                                                num_nearest = 25,\n",
    "                                                show_images = False)"
   ]
  },
  {
   "cell_type": "markdown",
   "metadata": {},
   "source": [
    "## Brute-force Search\n",
    "#### Use this if you haven't built indexes yet. It will take up to a minute to do the search"
   ]
  },
  {
   "cell_type": "markdown",
   "metadata": {},
   "source": [
    "### Search using a given set of lat/long coordinates\n",
    "##### The example provided is lon = 151.105687, lat = -33.766541, for category 3 (solar panels) at z21\n",
    "##### This finds long, thin solar panels"
   ]
  },
  {
   "cell_type": "code",
   "execution_count": null,
   "metadata": {},
   "outputs": [],
   "source": [
    "result_coordinates, result_images, result_ids = searchtiles.search_location_brute(encoder = encoder,\n",
    "                                                encodings_directory = '/mnt/data/data_filip/encoded_predictions/sydney_bigger_21_e65/',\n",
    "                                                coordinates_directory = '/mnt/data/data_filip/encoded_predictions/sydney_bigger_21_e65_coordinates.npy',\n",
    "                                                lon = 151.105687,\n",
    "                                                lat = -33.766541, \n",
    "                                                datestr = '2018-12-27',\n",
    "                                                dataset_datestr = '2018-12-27',\n",
    "                                                zoom_level = 21,\n",
    "                                                categories = [1,2,3,8,33],\n",
    "                                                category_weights = [0,0,1,0,0],\n",
    "                                                num_nearest = 25,\n",
    "                                                show_images = False)"
   ]
  },
  {
   "cell_type": "markdown",
   "metadata": {},
   "source": [
    "### Search using a given image\n",
    "##### The image should be 128x128xC, where C is the amount of categories you wish to use\n",
    "##### The example provided is a multi-category search for pools surrounded by high (>2m) vegetation"
   ]
  },
  {
   "cell_type": "code",
   "execution_count": null,
   "metadata": {},
   "outputs": [],
   "source": [
    "import matplotlib.pyplot as plt\n",
    "import numpy as np\n",
    "plt.rcParams[\"figure.figsize\"] = (5,5)\n",
    "im = np.zeros((128,128,2), dtype = np.float32)\n",
    "im[:,:,0] = np.float32(plt.imread('/mnt/data/data_filip/queryimages/multi-pool.png')[:,:,0])\n",
    "im[:,:,1] = np.float32(plt.imread('/mnt/data/data_filip/queryimages/multi-veg.png')[:,:,0])\n",
    "\n",
    "im_model = np.zeros((128,128,2), dtype = np.float32)\n",
    "im_model[:,:,0] = vae(np.array([im[:,:,:1]])).mean()[0,:,:,0]\n",
    "im_model[:,:,1] = vae(np.array([im[:,:,1:]])).mean()[0,:,:,0]\n",
    "\n",
    "print('Original pool (left) and vegetation (right) query images')\n",
    "plt.subplot(1,2,1)\n",
    "plt.imshow(im[:,:,0])\n",
    "plt.subplot(1,2,2)\n",
    "plt.imshow(im[:,:,1])\n",
    "plt.show()\n",
    "\n",
    "print('Above query images passed through the VAE. These are used to search')\n",
    "plt.subplot(1,2,1)\n",
    "plt.imshow(im_model[:,:,0])\n",
    "plt.subplot(1,2,2)\n",
    "plt.imshow(im_model[:,:,1])\n",
    "plt.show()"
   ]
  },
  {
   "cell_type": "markdown",
   "metadata": {},
   "source": [
    "##### Pools are weighted 0.5x such that the search values the fact that there is a pool surrounded by vegetation, rather than the exact pool shape"
   ]
  },
  {
   "cell_type": "code",
   "execution_count": null,
   "metadata": {},
   "outputs": [],
   "source": [
    "result_coordinates, result_images, result_ids = searchtiles.search_image_brute(preds = im_model,\n",
    "                                                encoder = encoder,\n",
    "                                                encodings_directory = '/mnt/data/data_filip/encoded_predictions/sydney_bigger_21_e65/',\n",
    "                                                coordinates_directory = '/mnt/data/data_filip/encoded_predictions/sydney_bigger_21_e65_coordinates.npy',\n",
    "                                                dataset_datestr = '2018-12-27',\n",
    "                                                zoom_level = 21,\n",
    "                                                categories = [1,8],\n",
    "                                                category_weights = [0.5,1],\n",
    "                                                num_nearest = 25,\n",
    "                                                show_images = False)"
   ]
  },
  {
   "cell_type": "markdown",
   "metadata": {},
   "source": [
    "#### Show the nearest images in a grid"
   ]
  },
  {
   "cell_type": "code",
   "execution_count": null,
   "metadata": {},
   "outputs": [],
   "source": [
    "plt.rcParams[\"figure.figsize\"] = (15,60)\n",
    "for i in range(100):\n",
    "    plt.subplot(20,5,i+1)\n",
    "    plt.imshow(result_images[i])\n",
    "    plt.axis('off')"
   ]
  }
 ],
 "metadata": {
  "kernelspec": {
   "display_name": "Python 3",
   "language": "python",
   "name": "python3"
  },
  "language_info": {
   "codemirror_mode": {
    "name": "ipython",
    "version": 3
   },
   "file_extension": ".py",
   "mimetype": "text/x-python",
   "name": "python",
   "nbconvert_exporter": "python",
   "pygments_lexer": "ipython3",
   "version": "3.7.3"
  }
 },
 "nbformat": 4,
 "nbformat_minor": 4
}
